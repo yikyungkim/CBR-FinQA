{
 "cells": [
  {
   "cell_type": "code",
   "execution_count": 2,
   "metadata": {},
   "outputs": [],
   "source": [
    "from cross_encoder_test import *\n",
    "from config_cross import parameters as conf\n",
    "import cross_encoder as cross\n",
    "import sampling as sampling"
   ]
  },
  {
   "cell_type": "code",
   "execution_count": 2,
   "metadata": {},
   "outputs": [],
   "source": [
    "tokenizer = RobertaTokenizer.from_pretrained(conf.bert_size)\n",
    "model_config = RobertaConfig.from_pretrained(conf.bert_size)\n",
    "\n",
    "special_token = {'additional_special_tokens': ['[QNP]']}          # question and program\n",
    "num_added_toks = tokenizer.add_special_tokens(special_token)"
   ]
  },
  {
   "cell_type": "code",
   "execution_count": 11,
   "metadata": {},
   "outputs": [],
   "source": [
    "train_data = json.load(open('/data2/yikyungkim/dataset/finqa_original/train.json'))"
   ]
  },
  {
   "cell_type": "code",
   "execution_count": 3,
   "metadata": {},
   "outputs": [],
   "source": [
    "q_scores = pickle.load(open('/data2/yikyungkim/case_retriever/archives/train_scores_question', 'rb'))\n",
    "gold_indices = pickle.load(open('/data2/yikyungkim/case_retriever/archives/train_gold_indices', 'rb'))"
   ]
  },
  {
   "cell_type": "code",
   "execution_count": 28,
   "metadata": {},
   "outputs": [
    {
     "name": "stdout",
     "output_type": "stream",
     "text": [
      "0.5942894015163729\n"
     ]
    }
   ],
   "source": [
    "len_data=0\n",
    "precision_sum=0\n",
    "for i in range(len(q_scores)):\n",
    "    q_score = q_scores[i]\n",
    "    golds = gold_indices[i]\n",
    "    q_top3 = sorted(q_score, key=lambda x:x[1], reverse=True)[:3]\n",
    "    \n",
    "    if len(golds)==0:\n",
    "        continue\n",
    "    len_data+=1\n",
    "\n",
    "    tp=0\n",
    "    for (index, score) in q_top3:\n",
    "        if index in golds:\n",
    "            tp+=1\n",
    "    \n",
    "    precision = tp/len(q_top3)\n",
    "    precision_sum += precision\n",
    "\n",
    "precision = precision_sum/len_data\n",
    "print(precision)"
   ]
  },
  {
   "cell_type": "code",
   "execution_count": null,
   "metadata": {},
   "outputs": [],
   "source": []
  }
 ],
 "metadata": {
  "kernelspec": {
   "display_name": "base",
   "language": "python",
   "name": "python3"
  },
  "language_info": {
   "codemirror_mode": {
    "name": "ipython",
    "version": 3
   },
   "file_extension": ".py",
   "mimetype": "text/x-python",
   "name": "python",
   "nbconvert_exporter": "python",
   "pygments_lexer": "ipython3",
   "version": "3.11.4"
  }
 },
 "nbformat": 4,
 "nbformat_minor": 2
}
